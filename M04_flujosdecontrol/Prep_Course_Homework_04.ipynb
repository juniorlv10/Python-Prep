{
 "cells": [
  {
   "attachments": {},
   "cell_type": "markdown",
   "metadata": {},
   "source": [
    "## Flujos de Control"
   ]
  },
  {
   "attachments": {},
   "cell_type": "markdown",
   "metadata": {},
   "source": [
    "1) Crear una variable que contenga un elemento del conjunto de números enteros y luego imprimir por pantalla si es mayor o menor a cero"
   ]
  },
  {
   "cell_type": "code",
   "execution_count": 1,
   "metadata": {},
   "outputs": [
    {
     "name": "stdout",
     "output_type": "stream",
     "text": [
      "el número  1  es mayor que 0\n",
      "El número  -2  es menor que 0\n",
      "el número  3  es mayor que 0\n",
      "El número  -4  es menor que 0\n",
      "el número  5  es mayor que 0\n"
     ]
    }
   ],
   "source": [
    "numeros=[1,-2,3,-4,5]\n",
    "for i in numeros:\n",
    "    if i>0:\n",
    "        print(\"el número \",i,\" es mayor que 0\")\n",
    "    elif i<0:\n",
    "        print(\"El número \",i,\" es menor que 0\")\n",
    "    else:\n",
    "        print(\"El número \",i,\" es igual a 0\")\n"
   ]
  },
  {
   "attachments": {},
   "cell_type": "markdown",
   "metadata": {},
   "source": [
    "2) Crear dos variables y un condicional que informe si son del mismo tipo de dato"
   ]
  },
  {
   "cell_type": "code",
   "execution_count": 2,
   "metadata": {},
   "outputs": [
    {
     "name": "stdout",
     "output_type": "stream",
     "text": [
      "Es diferente tipo de dato\n"
     ]
    }
   ],
   "source": [
    "variable1= 5\n",
    "variable2= \"Hola\"\n",
    "if type(variable1)==type(variable2):\n",
    "    print(\"Es el mismo tipo de dato\")\n",
    "else:\n",
    "    print(\"Es diferente tipo de dato\")"
   ]
  },
  {
   "attachments": {},
   "cell_type": "markdown",
   "metadata": {},
   "source": [
    "3) Para los valores enteros del 1 al 20, imprimir por pantalla si es par o impar"
   ]
  },
  {
   "cell_type": "code",
   "execution_count": 3,
   "metadata": {},
   "outputs": [
    {
     "name": "stdout",
     "output_type": "stream",
     "text": [
      "El número  1 es impar\n",
      "El número  2  es par\n",
      "El número  3 es impar\n",
      "El número  4  es par\n",
      "El número  5 es impar\n",
      "El número  6  es par\n",
      "El número  7 es impar\n",
      "El número  8  es par\n",
      "El número  9 es impar\n",
      "El número  10  es par\n",
      "El número  11 es impar\n",
      "El número  12  es par\n",
      "El número  13 es impar\n",
      "El número  14  es par\n",
      "El número  15 es impar\n",
      "El número  16  es par\n",
      "El número  17 es impar\n",
      "El número  18  es par\n",
      "El número  19 es impar\n",
      "El número  20  es par\n"
     ]
    }
   ],
   "source": [
    "for i in range(1,21):\n",
    "    if i%2==0:\n",
    "        print(\"El número \",i,\" es par\")\n",
    "    else:\n",
    "        print(\"El número \",i, \"es impar\")"
   ]
  },
  {
   "attachments": {},
   "cell_type": "markdown",
   "metadata": {},
   "source": [
    "4) En un ciclo for mostrar para los valores entre 0 y 5 el resultado de elevarlo a la potencia igual a 3"
   ]
  },
  {
   "cell_type": "code",
   "execution_count": 5,
   "metadata": {},
   "outputs": [
    {
     "name": "stdout",
     "output_type": "stream",
     "text": [
      "El número 0  elevado a la potencia 3, es igual a:  0\n",
      "El número 1  elevado a la potencia 3, es igual a:  1\n",
      "El número 2  elevado a la potencia 3, es igual a:  8\n",
      "El número 3  elevado a la potencia 3, es igual a:  27\n",
      "El número 4  elevado a la potencia 3, es igual a:  64\n",
      "El número 5  elevado a la potencia 3, es igual a:  125\n"
     ]
    }
   ],
   "source": [
    "for i in range(0,6):\n",
    "    potencia=i**3\n",
    "    print(\"El número\",i,\" elevado a la potencia 3, es igual a: \",potencia)"
   ]
  },
  {
   "attachments": {},
   "cell_type": "markdown",
   "metadata": {},
   "source": [
    "5) Crear una variable que contenga un número entero y realizar un ciclo for la misma cantidad de ciclos"
   ]
  },
  {
   "cell_type": "code",
   "execution_count": 8,
   "metadata": {},
   "outputs": [
    {
     "name": "stdout",
     "output_type": "stream",
     "text": [
      "1\n",
      "2\n",
      "3\n",
      "4\n"
     ]
    }
   ],
   "source": [
    "variableentero=5\n",
    "for i in range(1,variableentero):\n",
    "    pass\n",
    "    print(i)"
   ]
  },
  {
   "attachments": {},
   "cell_type": "markdown",
   "metadata": {},
   "source": [
    "6) Utilizar un ciclo while para realizar el factorial de un número guardado en una variable, sólo si la variable contiene un número entero mayor a 0"
   ]
  },
  {
   "cell_type": "code",
   "execution_count": 13,
   "metadata": {},
   "outputs": [
    {
     "name": "stdout",
     "output_type": "stream",
     "text": [
      "6\n"
     ]
    }
   ],
   "source": [
    "numero=3\n",
    "factorial=1\n",
    "if numero>0:\n",
    "    while numero!=0:\n",
    "        factorial=factorial * (numero)\n",
    "        numero-=1\n",
    "    print(factorial)\n",
    "else:\n",
    "    print(\"Solo se aceptan numeros positivos\")\n",
    "    \n"
   ]
  },
  {
   "attachments": {},
   "cell_type": "markdown",
   "metadata": {},
   "source": [
    "7) Crear un ciclo for dentro de un ciclo while"
   ]
  },
  {
   "cell_type": "code",
   "execution_count": 19,
   "metadata": {},
   "outputs": [
    {
     "name": "stdout",
     "output_type": "stream",
     "text": [
      "Este es el valor de n= 5\n",
      "Este es el valor de i 1\n",
      "Este es el valor de i 2\n",
      "Este es el valor de i 3\n",
      "Este es el valor de i 4\n",
      "Este es el valor de i 5\n",
      "Este es el valor de n= 4\n",
      "Este es el valor de i 1\n",
      "Este es el valor de i 2\n",
      "Este es el valor de i 3\n",
      "Este es el valor de i 4\n",
      "Este es el valor de n= 3\n",
      "Este es el valor de i 1\n",
      "Este es el valor de i 2\n",
      "Este es el valor de i 3\n",
      "Este es el valor de n= 2\n",
      "Este es el valor de i 1\n",
      "Este es el valor de i 2\n"
     ]
    }
   ],
   "source": [
    "n=5\n",
    "while n>1: \n",
    "    print(\"Este es el valor de n=\", n) \n",
    "    for i in range(1,n+1):\n",
    "        print(\"Este es el valor de i\", i)\n",
    "    n-=1\n"
   ]
  },
  {
   "attachments": {},
   "cell_type": "markdown",
   "metadata": {},
   "source": [
    "8) Crear un ciclo while dentro de un ciclo for"
   ]
  },
  {
   "cell_type": "code",
   "execution_count": 35,
   "metadata": {},
   "outputs": [
    {
     "name": "stdout",
     "output_type": "stream",
     "text": [
      "Este es el valor de n 5\n",
      "Este es el valor de suma 15\n",
      "Este es el valor de n 4\n",
      "Este es el valor de suma 10\n",
      "Este es el valor de n 3\n",
      "Este es el valor de suma 6\n",
      "Este es el valor de n 2\n",
      "Este es el valor de suma 3\n",
      "Este es el valor de n 1\n",
      "Este es el valor de suma 1\n"
     ]
    }
   ],
   "source": [
    "n=5\n",
    "while n>0:\n",
    "    print(\"Este es el valor de n\",n)\n",
    "    suma=0\n",
    "    for i in range(1,n+1):\n",
    "        suma=suma+i\n",
    "    n-=1\n",
    "    print(\"Este es el valor de suma\",suma)"
   ]
  },
  {
   "attachments": {},
   "cell_type": "markdown",
   "metadata": {},
   "source": [
    "9) Imprimir los números primos existentes entre 0 y 30"
   ]
  },
  {
   "cell_type": "code",
   "execution_count": 69,
   "metadata": {},
   "outputs": [
    {
     "name": "stdout",
     "output_type": "stream",
     "text": [
      "El numero  0   SI es primo\n",
      "El numero  1   SI es primo\n",
      "El numero  2   SI es primo\n",
      "El numero  3   SI es primo\n",
      "El numero  4  no es primo\n",
      "El numero  5   SI es primo\n",
      "El numero  6  no es primo\n",
      "El numero  7   SI es primo\n",
      "El numero  8  no es primo\n",
      "El numero  9  no es primo\n",
      "El numero  10  no es primo\n",
      "El numero  11   SI es primo\n",
      "El numero  12  no es primo\n",
      "El numero  13   SI es primo\n",
      "El numero  14  no es primo\n",
      "El numero  15  no es primo\n",
      "El numero  16  no es primo\n",
      "El numero  17   SI es primo\n",
      "El numero  18  no es primo\n",
      "El numero  19   SI es primo\n",
      "El numero  20  no es primo\n",
      "El numero  21  no es primo\n",
      "El numero  22  no es primo\n",
      "El numero  23   SI es primo\n",
      "El numero  24  no es primo\n",
      "El numero  25  no es primo\n",
      "El numero  26  no es primo\n",
      "El numero  27  no es primo\n",
      "El numero  28  no es primo\n",
      "El numero  29   SI es primo\n"
     ]
    }
   ],
   "source": [
    "tope=30\n",
    "n=0\n",
    "Primo=True\n",
    "while n<tope:\n",
    "    for i in range(2,n):\n",
    "        if n%i==0:\n",
    "            Primo=False\n",
    "    if (Primo):\n",
    "        print(\"El numero \",n,\"  SI es primo\")\n",
    "    else:\n",
    "        Primo=True\n",
    "    n+=1"
   ]
  },
  {
   "attachments": {},
   "cell_type": "markdown",
   "metadata": {},
   "source": [
    "10) ¿Se puede mejorar el proceso del punto 9? Utilizar las sentencias break y/ó continue para tal fin"
   ]
  },
  {
   "cell_type": "code",
   "execution_count": 67,
   "metadata": {},
   "outputs": [
    {
     "name": "stdout",
     "output_type": "stream",
     "text": [
      "El numero  0   SI es primo\n",
      "El numero  1   SI es primo\n",
      "El numero  2   SI es primo\n",
      "El numero  3   SI es primo\n",
      "El numero  5   SI es primo\n",
      "El numero  7   SI es primo\n",
      "El numero  11   SI es primo\n",
      "El numero  13   SI es primo\n",
      "El numero  17   SI es primo\n",
      "El numero  19   SI es primo\n",
      "El numero  23   SI es primo\n",
      "El numero  29   SI es primo\n"
     ]
    }
   ],
   "source": [
    "tope=30\n",
    "n=0\n",
    "Primo=True\n",
    "while n<tope:\n",
    "    for i in range(2,n):\n",
    "        if n%i==0:\n",
    "            Primo=False\n",
    "            break\n",
    "    if (Primo):\n",
    "        print(\"El numero \",n,\"  SI es primo\")\n",
    "    else:\n",
    "        Primo=True\n",
    "    n+=1"
   ]
  },
  {
   "attachments": {},
   "cell_type": "markdown",
   "metadata": {},
   "source": [
    "11) En los puntos 9 y 10, se diseño un código que encuentra números primos y además se lo optimizó. ¿Es posible saber en qué medida se optimizó?"
   ]
  },
  {
   "cell_type": "code",
   "execution_count": null,
   "metadata": {},
   "outputs": [],
   "source": []
  },
  {
   "attachments": {},
   "cell_type": "markdown",
   "metadata": {},
   "source": [
    "12) Aplicando continue, armar un ciclo while que solo imprima los valores divisibles por 12, dentro del rango de números de 100 a 300"
   ]
  },
  {
   "cell_type": "code",
   "execution_count": 80,
   "metadata": {},
   "outputs": [
    {
     "name": "stdout",
     "output_type": "stream",
     "text": [
      "El número  108  es divisible por 12\n",
      "El número  120  es divisible por 12\n",
      "El número  132  es divisible por 12\n",
      "El número  144  es divisible por 12\n",
      "El número  156  es divisible por 12\n",
      "El número  168  es divisible por 12\n",
      "El número  180  es divisible por 12\n",
      "El número  192  es divisible por 12\n",
      "El número  204  es divisible por 12\n",
      "El número  216  es divisible por 12\n",
      "El número  228  es divisible por 12\n",
      "El número  240  es divisible por 12\n",
      "El número  252  es divisible por 12\n",
      "El número  264  es divisible por 12\n",
      "El número  276  es divisible por 12\n",
      "El número  288  es divisible por 12\n",
      "El número  300  es divisible por 12\n"
     ]
    }
   ],
   "source": [
    "n=99\n",
    "while n<300:\n",
    "    n+=1\n",
    "    if n%12!=0:\n",
    "        continue\n",
    "    print(\"El número \",n,\" es divisible por 12\")"
   ]
  },
  {
   "attachments": {},
   "cell_type": "markdown",
   "metadata": {},
   "source": [
    "13) Utilizar la función **input()** que permite hacer ingresos por teclado, para encontrar números primos y dar la opción al usario de buscar el siguiente"
   ]
  },
  {
   "cell_type": "code",
   "execution_count": 88,
   "metadata": {},
   "outputs": [
    {
     "name": "stdout",
     "output_type": "stream",
     "text": [
      "1\n",
      "¿Desea encontrar el siguiente número primo?\n",
      "2\n",
      "¿Desea encontrar el siguiente número primo?\n",
      "3\n",
      "¿Desea encontrar el siguiente número primo?\n",
      "5\n",
      "¿Desea encontrar el siguiente número primo?\n",
      "7\n",
      "¿Desea encontrar el siguiente número primo?\n",
      "11\n",
      "¿Desea encontrar el siguiente número primo?\n",
      "13\n",
      "¿Desea encontrar el siguiente número primo?\n",
      "17\n",
      "¿Desea encontrar el siguiente número primo?\n",
      "Se finaliza el proceso\n"
     ]
    }
   ],
   "source": [
    "n = 1\n",
    "sigue = 1\n",
    "primo = True\n",
    "while (sigue == 1):\n",
    "    for div in range(2, n):\n",
    "        if (n % div == 0):\n",
    "            primo = False\n",
    "            break\n",
    "    if (primo):\n",
    "        print(n)\n",
    "        print('¿Desea encontrar el siguiente número primo?')\n",
    "        if (input() != '1'):\n",
    "            print('Se finaliza el proceso')\n",
    "            break\n",
    "    else:\n",
    "        primo = True\n",
    "    n += 1"
   ]
  },
  {
   "attachments": {},
   "cell_type": "markdown",
   "metadata": {},
   "source": [
    "14) Crear un ciclo while que encuentre dentro del rango de 100 a 300 el primer número divisible por 3 y además múltiplo de 6"
   ]
  },
  {
   "cell_type": "code",
   "execution_count": null,
   "metadata": {},
   "outputs": [],
   "source": []
  }
 ],
 "metadata": {
  "interpreter": {
   "hash": "c85384e4cb51c8b72350f3a8712cc8351fdc3955e32a27f9b60c6242ab125f01"
  },
  "kernelspec": {
   "display_name": "Python 3 (ipykernel)",
   "language": "python",
   "name": "python3"
  },
  "language_info": {
   "codemirror_mode": {
    "name": "ipython",
    "version": 3
   },
   "file_extension": ".py",
   "mimetype": "text/x-python",
   "name": "python",
   "nbconvert_exporter": "python",
   "pygments_lexer": "ipython3",
   "version": "3.11.4"
  }
 },
 "nbformat": 4,
 "nbformat_minor": 4
}
