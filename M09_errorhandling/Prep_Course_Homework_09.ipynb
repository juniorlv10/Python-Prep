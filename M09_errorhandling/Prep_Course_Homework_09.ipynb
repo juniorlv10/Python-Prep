{
 "cells": [
  {
   "attachments": {},
   "cell_type": "markdown",
   "metadata": {},
   "source": [
    "## Manejo de errores"
   ]
  },
  {
   "attachments": {},
   "cell_type": "markdown",
   "metadata": {},
   "source": [
    "1) Con la clase creada en el módulo 7, tener en cuenta diferentes casos en que el código pudiera arrojar error. Por ejemplo, en la creación del objeto recibimos una lista de números enteros pero ¿qué pasa si se envía otro tipo de dato?"
   ]
  },
  {
   "cell_type": "code",
   "execution_count": null,
   "metadata": {},
   "outputs": [],
   "source": []
  },
  {
   "attachments": {},
   "cell_type": "markdown",
   "metadata": {},
   "source": [
    "2) En la función que hace la conversión de grados, validar que los parámetros enviados sean los esperados, de no serlo, informar cuáles son los valores esperados."
   ]
  },
  {
   "cell_type": "code",
   "execution_count": 1,
   "metadata": {},
   "outputs": [
    {
     "data": {
      "text/plain": [
       "283.15"
      ]
     },
     "execution_count": 1,
     "metadata": {},
     "output_type": "execute_result"
    }
   ],
   "source": [
    "def convertirgrados(valor,origen,destino):\n",
    "\n",
    "    if(origen=='Celsius'):\n",
    "        if(destino=='Celsius'):\n",
    "            resultado = valor\n",
    "        elif(destino=='Farenheit'):\n",
    "            resultado = (valor*9/5)+32\n",
    "        elif(destino=='Kelvin'):\n",
    "            resultado = valor+273.15\n",
    "        else:\n",
    "            return 'Parámetro de destino incorrecto'\n",
    "\n",
    "    elif(origen=='Farenheit'):\n",
    "        if(destino=='Farenheit'):\n",
    "            resultado = valor\n",
    "        elif(destino=='Celsius'):\n",
    "            resultado = (valor - 32) *(5/9)\n",
    "        elif(destino=='Kelvin'):\n",
    "            resultado = ((valor - 32) * 5 / 9) + 273.15\n",
    "        else:\n",
    "            return 'Parámetro de destino incorrecto'\n",
    "        \n",
    "    elif(origen=='Kelvin'):\n",
    "        if(destino=='Kelvin'):\n",
    "            resultado = valor\n",
    "        elif(destino=='Celsius'):\n",
    "            resultado = valor - 273.15\n",
    "        elif(destino=='Farenheit'):\n",
    "            resultado = ((valor - 273.15) * 9 / 5) + 32\n",
    "        else:\n",
    "            return 'Parámetro de destino incorrecto'\n",
    "\n",
    "    else:\n",
    "        return 'Parámetro de origen incorrecto'\n",
    "    return resultado\n",
    "\n",
    "convertirgrados(10,'Celsius','Kelvin') "
   ]
  },
  {
   "cell_type": "code",
   "execution_count": 18,
   "metadata": {},
   "outputs": [],
   "source": [
    "import unittest\n",
    "class CajaNegra(unittest.TestCase):\n",
    "    def testconversion(self):\n",
    "\n",
    "        try:\n",
    "            valor = 'Hola'\n",
    "            origen = 'Celsius'\n",
    "            destino ='Kelvin'\n",
    "\n",
    "        except:\n",
    "            assert type(valor)!=int,f'esteeeeeee'\n",
    "                \n",
    "\n",
    "        resultadoconversion = convertirgrados(valor,origen,destino)\n",
    "\n",
    "        self.assertEqual(resultadoconversion,283.15)\n",
    "\n"
   ]
  },
  {
   "cell_type": "code",
   "execution_count": 17,
   "metadata": {},
   "outputs": [
    {
     "name": "stderr",
     "output_type": "stream",
     "text": [
      "E\n",
      "======================================================================\n",
      "ERROR: testconversion (__main__.CajaNegra.testconversion)\n",
      "----------------------------------------------------------------------\n",
      "Traceback (most recent call last):\n",
      "  File \"C:\\Users\\User\\AppData\\Local\\Temp\\ipykernel_7620\\4175007122.py\", line 13, in testconversion\n",
      "    resultadoconversion = convertirgrados(valor,origen,destino)\n",
      "                          ^^^^^^^^^^^^^^^^^^^^^^^^^^^^^^^^^^^^^\n",
      "  File \"C:\\Users\\User\\AppData\\Local\\Temp\\ipykernel_7620\\2940710432.py\", line 9, in convertirgrados\n",
      "    resultado = valor+273.15\n",
      "                ~~~~~^~~~~~~\n",
      "TypeError: can only concatenate str (not \"float\") to str\n",
      "\n",
      "----------------------------------------------------------------------\n",
      "Ran 1 test in 0.001s\n",
      "\n",
      "FAILED (errors=1)\n"
     ]
    },
    {
     "ename": "NameError",
     "evalue": "name 'testconversion' is not defined",
     "output_type": "error",
     "traceback": [
      "\u001b[1;31m---------------------------------------------------------------------------\u001b[0m",
      "\u001b[1;31mNameError\u001b[0m                                 Traceback (most recent call last)",
      "Cell \u001b[1;32mIn[17], line 2\u001b[0m\n\u001b[0;32m      1\u001b[0m unittest\u001b[39m.\u001b[39mmain(argv\u001b[39m=\u001b[39m[\u001b[39m\"\u001b[39m\u001b[39m\"\u001b[39m],verbosity\u001b[39m=\u001b[39m\u001b[39m1\u001b[39m,exit\u001b[39m=\u001b[39m\u001b[39mFalse\u001b[39;00m)\n\u001b[1;32m----> 2\u001b[0m testconversion(__main__\u001b[39m.\u001b[39mCajaNegra)\n",
      "\u001b[1;31mNameError\u001b[0m: name 'testconversion' is not defined"
     ]
    }
   ],
   "source": [
    "unittest.main(argv=[\"\"],verbosity=1,exit=False)\n",
    "testconversion(__main__.CajaNegra)"
   ]
  },
  {
   "attachments": {},
   "cell_type": "markdown",
   "metadata": {},
   "source": [
    "3) Importar el modulo \"unittest\" y crear los siguientes casos de pruebas sobre la clase utilizada en el punto 2<br>\n",
    "Creacion del objeto incorrecta<br>\n",
    "Creacion correcta del objeto<br>\n",
    "Metodo valor_modal()<br>\n",
    "\n",
    "Se puede usar \"raise ValueError()\" en la creación de la clase para verificar el error. Investigar sobre esta funcionalidad."
   ]
  },
  {
   "cell_type": "code",
   "execution_count": 19,
   "metadata": {},
   "outputs": [],
   "source": [
    "import unittest"
   ]
  },
  {
   "cell_type": "code",
   "execution_count": null,
   "metadata": {},
   "outputs": [],
   "source": []
  },
  {
   "attachments": {},
   "cell_type": "markdown",
   "metadata": {},
   "source": [
    "4) Probar una creación incorrecta y visualizar la salida del \"raise\""
   ]
  },
  {
   "cell_type": "code",
   "execution_count": null,
   "metadata": {},
   "outputs": [],
   "source": []
  },
  {
   "attachments": {},
   "cell_type": "markdown",
   "metadata": {},
   "source": [
    "6) Agregar casos de pruebas para el método verifica_primos() realizando el cambio en la clase, para que devuelva una lista de True o False en función de que el elemento en la posisicón sea o no primo"
   ]
  },
  {
   "cell_type": "code",
   "execution_count": null,
   "metadata": {},
   "outputs": [],
   "source": []
  },
  {
   "attachments": {},
   "cell_type": "markdown",
   "metadata": {},
   "source": [
    "7) Agregar casos de pruebas para el método conversion_grados()"
   ]
  },
  {
   "cell_type": "code",
   "execution_count": null,
   "metadata": {},
   "outputs": [],
   "source": []
  },
  {
   "attachments": {},
   "cell_type": "markdown",
   "metadata": {},
   "source": [
    "8) Agregar casos de pruebas para el método factorial()"
   ]
  },
  {
   "cell_type": "code",
   "execution_count": null,
   "metadata": {},
   "outputs": [],
   "source": []
  }
 ],
 "metadata": {
  "interpreter": {
   "hash": "c85384e4cb51c8b72350f3a8712cc8351fdc3955e32a27f9b60c6242ab125f01"
  },
  "kernelspec": {
   "display_name": "Python 3 (ipykernel)",
   "language": "python",
   "name": "python3"
  },
  "language_info": {
   "codemirror_mode": {
    "name": "ipython",
    "version": 3
   },
   "file_extension": ".py",
   "mimetype": "text/x-python",
   "name": "python",
   "nbconvert_exporter": "python",
   "pygments_lexer": "ipython3",
   "version": "3.11.4"
  }
 },
 "nbformat": 4,
 "nbformat_minor": 4
}
