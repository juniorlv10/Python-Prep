{
 "cells": [
  {
   "cell_type": "code",
   "execution_count": 1,
   "metadata": {},
   "outputs": [],
   "source": [
    "import unittest"
   ]
  },
  {
   "cell_type": "code",
   "execution_count": 2,
   "metadata": {},
   "outputs": [],
   "source": [
    "def es_mayor_de_edad(edad):\n",
    "    if edad >= 18:\n",
    "        return True\n",
    "    else:\n",
    "        return False"
   ]
  },
  {
   "cell_type": "code",
   "execution_count": 5,
   "metadata": {},
   "outputs": [],
   "source": [
    "class PruebaDeCristalTest(unittest.TestCase):\n",
    "    \n",
    "    def test_es_mayor_de_edad(self):\n",
    "        edad=20\n",
    "\n",
    "        resultado = es_mayor_de_edad(20)\n",
    "\n",
    "        self.assertEqual(resultado,True)\n",
    "\n",
    "    def test_es_menor_de_edad(self):\n",
    "        edad=15\n",
    "\n",
    "        resultado = es_mayor_de_edad(15)\n",
    "\n",
    "        self.assertEqual(resultado,False)"
   ]
  },
  {
   "cell_type": "code",
   "execution_count": 6,
   "metadata": {},
   "outputs": [
    {
     "name": "stderr",
     "output_type": "stream",
     "text": [
      "test_es_mayor_de_edad (__main__.PruebaDeCristalTest.test_es_mayor_de_edad) ... ok\n",
      "test_es_menor_de_edad (__main__.PruebaDeCristalTest.test_es_menor_de_edad) ... ok\n",
      "\n",
      "----------------------------------------------------------------------\n",
      "Ran 2 tests in 0.003s\n",
      "\n",
      "OK\n"
     ]
    },
    {
     "data": {
      "text/plain": [
       "<unittest.main.TestProgram at 0x2c6ac2c4450>"
      ]
     },
     "execution_count": 6,
     "metadata": {},
     "output_type": "execute_result"
    }
   ],
   "source": [
    "unittest.main(argv=[\"\"], verbosity=2, exit=False)"
   ]
  }
 ],
 "metadata": {
  "kernelspec": {
   "display_name": "Python 3",
   "language": "python",
   "name": "python3"
  },
  "language_info": {
   "codemirror_mode": {
    "name": "ipython",
    "version": 3
   },
   "file_extension": ".py",
   "mimetype": "text/x-python",
   "name": "python",
   "nbconvert_exporter": "python",
   "pygments_lexer": "ipython3",
   "version": "3.11.4"
  },
  "orig_nbformat": 4
 },
 "nbformat": 4,
 "nbformat_minor": 2
}
