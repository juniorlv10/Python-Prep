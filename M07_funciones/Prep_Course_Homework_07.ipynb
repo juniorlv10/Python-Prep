{
 "cells": [
  {
   "attachments": {},
   "cell_type": "markdown",
   "metadata": {},
   "source": [
    "## Funciones"
   ]
  },
  {
   "attachments": {},
   "cell_type": "markdown",
   "metadata": {},
   "source": [
    "1) Crear una función que reciba un número como parámetro y devuelva True si es primo y False si no lo es"
   ]
  },
  {
   "cell_type": "code",
   "execution_count": 37,
   "metadata": {},
   "outputs": [
    {
     "data": {
      "text/plain": [
       "True"
      ]
     },
     "execution_count": 37,
     "metadata": {},
     "output_type": "execute_result"
    }
   ],
   "source": [
    "def primos(x):\n",
    "    esprimo=True\n",
    "    for i in range(2,x):\n",
    "        if(x%i==0):\n",
    "            esprimo=False\n",
    "            break\n",
    "    return esprimo\n",
    "\n",
    "primos(7)"
   ]
  },
  {
   "attachments": {},
   "cell_type": "markdown",
   "metadata": {},
   "source": [
    "2) Utilizando la función del punto 1, realizar otra función que reciba de parámetro una lista de números y devuelva sólo aquellos que son primos en otra lista"
   ]
  },
  {
   "cell_type": "code",
   "execution_count": 39,
   "metadata": {},
   "outputs": [
    {
     "data": {
      "text/plain": [
       "[5, 7, 11, 13]"
      ]
     },
     "execution_count": 39,
     "metadata": {},
     "output_type": "execute_result"
    }
   ],
   "source": [
    "def extraeprimos(lista):\n",
    "    nueva_lista=[]\n",
    "    for i in lista:\n",
    "        if(primos(int(i))):\n",
    "            nueva_lista.append(i)\n",
    "    return nueva_lista\n",
    "\n",
    "lista=[5,6,7,8,9,10,11,12,13,14,15]\n",
    "extraeprimos(lista)"
   ]
  },
  {
   "attachments": {},
   "cell_type": "markdown",
   "metadata": {},
   "source": [
    "3) Crear una función que al recibir una lista de números, devuelva el que más se repite y cuántas veces lo hace. Si hay más de un \"más repetido\", que devuelva cualquiera"
   ]
  },
  {
   "cell_type": "code",
   "execution_count": 45,
   "metadata": {},
   "outputs": [
    {
     "data": {
      "text/plain": [
       "1"
      ]
     },
     "execution_count": 45,
     "metadata": {},
     "output_type": "execute_result"
    }
   ],
   "source": [
    "def repite(listanumeros):\n",
    "    for i in listanumeros:\n",
    "        x=listanumeros.count(i)\n",
    "        return x\n",
    "listanumeros=[0,8,4,2,6,4,8,7,1,8,10]\n",
    "repite(listanumeros)"
   ]
  },
  {
   "attachments": {},
   "cell_type": "markdown",
   "metadata": {},
   "source": [
    "4) Crear una función que convierta entre grados Celsius, Farenheit y Kelvin<br>\n",
    "Fórmula 1\t: (°C × 9/5) + 32 = °F<br>\n",
    "Fórmula 2\t: °C + 273.15 = °K<br>\n",
    "Debe recibir 3 parámetros: el valor, la medida de orígen y la medida de destino\n"
   ]
  },
  {
   "cell_type": "code",
   "execution_count": 50,
   "metadata": {},
   "outputs": [
    {
     "data": {
      "text/plain": [
       "-12.222222222222223"
      ]
     },
     "execution_count": 50,
     "metadata": {},
     "output_type": "execute_result"
    }
   ],
   "source": [
    "def convertirgrados(valor,origen,destino):\n",
    "\n",
    "    if(origen=='Celsius'):\n",
    "        if(destino=='Celsius'):\n",
    "            resultado = valor\n",
    "        elif(destino=='Farenheit'):\n",
    "            resultado = (valor*9/5)+32\n",
    "        elif(destino=='Kelvin'):\n",
    "            resultado = valor+273.15\n",
    "        else:\n",
    "            return 'Parámetro de destino incorrecto'\n",
    "\n",
    "    elif(origen=='Farenheit'):\n",
    "        if(destino=='Farenheit'):\n",
    "            resultado = valor\n",
    "        elif(destino=='Celsius'):\n",
    "            resultado = (valor - 32) *(5/9)\n",
    "        elif(destino=='Kelvin'):\n",
    "            resultado = ((valor - 32) * 5 / 9) + 273.15\n",
    "        else:\n",
    "            return 'Parámetro de destino incorrecto'\n",
    "        \n",
    "    elif(origen=='Kelvin'):\n",
    "        if(destino=='Kelvin'):\n",
    "            resultado = valor\n",
    "        elif(destino=='Celsius'):\n",
    "            resultado = valor - 273.15\n",
    "        elif(destino=='Farenheit'):\n",
    "            resultado = ((valor - 273.15) * 9 / 5) + 32\n",
    "        else:\n",
    "            return 'Parámetro de destino incorrecto'\n",
    "\n",
    "    else:\n",
    "        return 'Parámetro de origen incorrecto'\n",
    "    return resultado\n",
    "\n",
    "convertirgrados(10,'Farenheit','Celsius')"
   ]
  },
  {
   "attachments": {},
   "cell_type": "markdown",
   "metadata": {},
   "source": [
    "5) Iterando una lista con los tres valores posibles de temperatura que recibe la función del punto 5, hacer un print para cada combinación de los mismos:"
   ]
  },
  {
   "cell_type": "code",
   "execution_count": null,
   "metadata": {},
   "outputs": [],
   "source": []
  },
  {
   "attachments": {},
   "cell_type": "markdown",
   "metadata": {},
   "source": [
    "6) Armar una función que devuelva el factorial de un número. Tener en cuenta que el usuario puede equivocarse y enviar de parámetro un número no entero o negativo"
   ]
  },
  {
   "cell_type": "code",
   "execution_count": 23,
   "metadata": {},
   "outputs": [],
   "source": [
    "def factorial(numero):\n",
    "    if(type(numero) != int):\n",
    "        return None\n",
    "    if(numero<0):\n",
    "        return None\n",
    "    resultado=numero\n",
    "    while(numero>1):\n",
    "        resultado =resultado*(numero-1)\n",
    "        numero -=1\n",
    "    \n",
    "    return resultado\n"
   ]
  },
  {
   "cell_type": "code",
   "execution_count": 24,
   "metadata": {},
   "outputs": [
    {
     "name": "stdout",
     "output_type": "stream",
     "text": [
      "24\n"
     ]
    }
   ],
   "source": [
    "print(factorial(4))"
   ]
  }
 ],
 "metadata": {
  "interpreter": {
   "hash": "c85384e4cb51c8b72350f3a8712cc8351fdc3955e32a27f9b60c6242ab125f01"
  },
  "kernelspec": {
   "display_name": "Python 3 (ipykernel)",
   "language": "python",
   "name": "python3"
  },
  "language_info": {
   "codemirror_mode": {
    "name": "ipython",
    "version": 3
   },
   "file_extension": ".py",
   "mimetype": "text/x-python",
   "name": "python",
   "nbconvert_exporter": "python",
   "pygments_lexer": "ipython3",
   "version": "3.11.4"
  }
 },
 "nbformat": 4,
 "nbformat_minor": 4
}
