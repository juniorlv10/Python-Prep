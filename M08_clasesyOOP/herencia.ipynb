{
 "cells": [
  {
   "cell_type": "code",
   "execution_count": 1,
   "metadata": {},
   "outputs": [],
   "source": [
    "class Animal:\n",
    "    def __init__(self,especie,edad):\n",
    "        self.especie=especie\n",
    "        self.edad=edad\n",
    "\n",
    "    #Método genérico pero con implementación particular\n",
    "    def hablar(self):\n",
    "        #Metodo vacío\n",
    "        pass\n",
    "\n",
    "    #Método genérico pero con implementación particular\n",
    "    def moverse(self):\n",
    "        #Metodo vacío\n",
    "        pass\n",
    "    \n",
    "    #Método genérico pero con implementación particular\n",
    "    def describeme(self):\n",
    "        print('Soy un animal del tipo', type(self).__name__)"
   ]
  },
  {
   "cell_type": "code",
   "execution_count": 2,
   "metadata": {},
   "outputs": [],
   "source": [
    "#PERRO HEREDA DE ANIMAL\n",
    "class Perro(Animal):\n",
    "    pass"
   ]
  },
  {
   "cell_type": "code",
   "execution_count": 3,
   "metadata": {},
   "outputs": [
    {
     "name": "stdout",
     "output_type": "stream",
     "text": [
      "Soy un animal del tipo Perro\n"
     ]
    }
   ],
   "source": [
    "mi_perro=Perro('Mamífero', 10)\n",
    "mi_perro.describeme()"
   ]
  },
  {
   "cell_type": "code",
   "execution_count": 4,
   "metadata": {},
   "outputs": [],
   "source": [
    "class Perro(Animal):\n",
    "    def hablar(self):\n",
    "        print('Guau')\n",
    "\n",
    "    def moverse(self):\n",
    "        print('Caminando con 4 patas')"
   ]
  },
  {
   "cell_type": "code",
   "execution_count": 5,
   "metadata": {},
   "outputs": [],
   "source": [
    "class Vaca(Animal):\n",
    "    def hablar(self):\n",
    "        print('Muuu!')\n",
    "    def moverse(self):\n",
    "        print('Caminando con 4 patas')"
   ]
  },
  {
   "cell_type": "code",
   "execution_count": 6,
   "metadata": {},
   "outputs": [],
   "source": [
    "class Abeja(Animal):\n",
    "    def hablar(self):\n",
    "        print('Bzzzz!')\n",
    "\n",
    "    def moverse(self):\n",
    "        print('Volando')\n",
    "    \n",
    "    #Nuevo Método\n",
    "    def picar(self):\n",
    "        print('Picar!')"
   ]
  },
  {
   "cell_type": "code",
   "execution_count": 7,
   "metadata": {},
   "outputs": [],
   "source": [
    "mi_perro=Perro('Mamífero', 10)\n",
    "mi_vaca=Vaca('Mam+ífero',23)\n",
    "mi_abeja=Abeja('Insecto',1)"
   ]
  },
  {
   "cell_type": "code",
   "execution_count": 8,
   "metadata": {},
   "outputs": [
    {
     "name": "stdout",
     "output_type": "stream",
     "text": [
      "Muuu!\n"
     ]
    }
   ],
   "source": [
    "mi_vaca.hablar()"
   ]
  },
  {
   "cell_type": "code",
   "execution_count": 9,
   "metadata": {},
   "outputs": [
    {
     "name": "stdout",
     "output_type": "stream",
     "text": [
      "Soy un animal del tipo Abeja\n"
     ]
    }
   ],
   "source": [
    "mi_abeja.describeme()"
   ]
  },
  {
   "cell_type": "code",
   "execution_count": 10,
   "metadata": {},
   "outputs": [
    {
     "name": "stdout",
     "output_type": "stream",
     "text": [
      "Picar!\n"
     ]
    }
   ],
   "source": [
    "mi_abeja.picar()"
   ]
  },
  {
   "cell_type": "code",
   "execution_count": 11,
   "metadata": {},
   "outputs": [],
   "source": [
    "#####################SUPER###################\n",
    "class Animal:\n",
    "    def __init__(self,especie,edad):\n",
    "        self.especie=especie\n",
    "        self.edad=edad\n",
    "\n",
    "    #Método genérico pero con implementación particular\n",
    "    def hablar(self):\n",
    "        #Metodo vacío\n",
    "        pass\n",
    "\n",
    "    #Método genérico pero con implementación particular\n",
    "    def moverse(self):\n",
    "        #Metodo vacío\n",
    "        pass\n",
    "    \n",
    "    #Método genérico pero con implementación particular\n",
    "    def describeme(self):\n",
    "        print('Soy un animal del tipo', type(self).__name__)"
   ]
  },
  {
   "cell_type": "code",
   "execution_count": 13,
   "metadata": {},
   "outputs": [],
   "source": [
    "class Perro(Animal):\n",
    "    def __init__(self, especie, edad, dueño):\n",
    "        self.especie=especie\n",
    "        self.edad=edad\n",
    "        self.dueño=dueño\n",
    "        "
   ]
  },
  {
   "cell_type": "code",
   "execution_count": 14,
   "metadata": {},
   "outputs": [],
   "source": [
    "class Perro(Animal):\n",
    "    def __init__(self, especie, edad, dueño):\n",
    "        super().__init__(especie, edad)\n",
    "        self.dueño=dueño"
   ]
  },
  {
   "cell_type": "code",
   "execution_count": 15,
   "metadata": {},
   "outputs": [],
   "source": [
    "nuevo_perro=Perro('Mamífero',7,'Luis')"
   ]
  },
  {
   "cell_type": "code",
   "execution_count": 16,
   "metadata": {},
   "outputs": [
    {
     "name": "stdout",
     "output_type": "stream",
     "text": [
      "Mamífero\n",
      "7\n",
      "Luis\n"
     ]
    }
   ],
   "source": [
    "print(nuevo_perro.especie)\n",
    "print(nuevo_perro.edad)\n",
    "print(nuevo_perro.dueño)"
   ]
  }
 ],
 "metadata": {
  "kernelspec": {
   "display_name": "Python 3",
   "language": "python",
   "name": "python3"
  },
  "language_info": {
   "codemirror_mode": {
    "name": "ipython",
    "version": 3
   },
   "file_extension": ".py",
   "mimetype": "text/x-python",
   "name": "python",
   "nbconvert_exporter": "python",
   "pygments_lexer": "ipython3",
   "version": "3.11.4"
  },
  "orig_nbformat": 4
 },
 "nbformat": 4,
 "nbformat_minor": 2
}
