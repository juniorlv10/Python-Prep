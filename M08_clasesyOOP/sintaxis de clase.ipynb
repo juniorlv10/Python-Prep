{
 "cells": [
  {
   "cell_type": "code",
   "execution_count": 3,
   "metadata": {},
   "outputs": [],
   "source": [
    "class Gato:\n",
    "    def __init__(self,nombre,edad,raza,sexo):\n",
    "        self.nombre = nombre\n",
    "        self.edad = edad\n",
    "        self.raza = raza\n",
    "        self.sexo = sexo\n",
    "\n",
    "    #METODO PRESENTAR\n",
    "    def presentar(self):\n",
    "        return print('Nombre: ',self.nombre,'Edad: ',self.edad, 'Raza: ',self.raza, 'Sexo: ',self.sexo)\n"
   ]
  },
  {
   "cell_type": "code",
   "execution_count": 10,
   "metadata": {},
   "outputs": [],
   "source": [
    "#INSTANCIAR OBJETO DE LA CLASE GATO\n",
    "gato1= Gato('Pompon', 2, 'Siames', 'macho')"
   ]
  },
  {
   "cell_type": "code",
   "execution_count": 8,
   "metadata": {},
   "outputs": [
    {
     "name": "stdout",
     "output_type": "stream",
     "text": [
      "<__main__.Gato object at 0x000001A58B898550>\n"
     ]
    }
   ],
   "source": [
    "print(gato1)"
   ]
  },
  {
   "cell_type": "code",
   "execution_count": 11,
   "metadata": {},
   "outputs": [
    {
     "name": "stdout",
     "output_type": "stream",
     "text": [
      "Nombre:  Pompon Edad:  2 Raza:  Siames Sexo:  macho\n"
     ]
    }
   ],
   "source": [
    "gato1.presentar()"
   ]
  },
  {
   "cell_type": "code",
   "execution_count": 1,
   "metadata": {},
   "outputs": [],
   "source": [
    "#ENCAPSULAMIENTO\n",
    "class CuentaBancaria:\n",
    "    def __init__(self,saldo):\n",
    "        self.__saldo=saldo #El atributo saldo esta encapsulado con __\n",
    "\n",
    "    def depositar(self, monto):\n",
    "        self.__saldo += monto\n",
    "\n",
    "    def retirar(self,monto):\n",
    "        if self.__saldo>=monto:\n",
    "            self.__saldo-=monto\n",
    "        else:\n",
    "            print('Saldo insuficiente')\n",
    "\n",
    "    def obtener_saldo(self):\n",
    "        return self.__saldo"
   ]
  },
  {
   "cell_type": "code",
   "execution_count": 4,
   "metadata": {},
   "outputs": [],
   "source": [
    "#HERENCIA\n",
    "gato2=Gato('Nina',3,'Mezcla','Hembra')\n"
   ]
  },
  {
   "cell_type": "code",
   "execution_count": 5,
   "metadata": {},
   "outputs": [
    {
     "name": "stdout",
     "output_type": "stream",
     "text": [
      "Nombre:  Nina Edad:  3 Raza:  Mezcla Sexo:  Hembra\n"
     ]
    }
   ],
   "source": [
    "gato2.presentar()"
   ]
  },
  {
   "cell_type": "code",
   "execution_count": 6,
   "metadata": {},
   "outputs": [],
   "source": [
    "#POLIMORFIMOS\n",
    "class Animal:\n",
    "    def __init__(self,especie,edad,color):\n",
    "        self.especie=especie\n",
    "        self.edad=edad\n",
    "        self.color=color\n",
    "    \n",
    "    def mePresento(self):\n",
    "        print('Hola, soy: ',self.especie,'de color:', self.color,'y tengo: ',self.edad)\n",
    "\n",
    "    def cumplirAños(self):\n",
    "        self.edad = self.edad+1"
   ]
  },
  {
   "cell_type": "code",
   "execution_count": 7,
   "metadata": {},
   "outputs": [],
   "source": [
    "a1=Animal('Raton', 2,'Marron')\n",
    "a2=Animal('Liebre',3,'Gris')"
   ]
  },
  {
   "cell_type": "code",
   "execution_count": 8,
   "metadata": {},
   "outputs": [
    {
     "name": "stdout",
     "output_type": "stream",
     "text": [
      "Raton\n",
      "2\n",
      "Liebre\n",
      "3\n"
     ]
    }
   ],
   "source": [
    "print(a1.especie)\n",
    "print(a1.edad)\n",
    "print(a2.especie)\n",
    "print(a2.edad)"
   ]
  },
  {
   "cell_type": "code",
   "execution_count": 9,
   "metadata": {},
   "outputs": [
    {
     "name": "stdout",
     "output_type": "stream",
     "text": [
      "Hola, soy:  Raton de color: Marron y tengo:  2\n"
     ]
    }
   ],
   "source": [
    "a1.mePresento()"
   ]
  },
  {
   "cell_type": "code",
   "execution_count": 10,
   "metadata": {},
   "outputs": [
    {
     "name": "stdout",
     "output_type": "stream",
     "text": [
      "Hola, soy:  Liebre de color: Gris y tengo:  3\n"
     ]
    }
   ],
   "source": [
    "a2.mePresento()"
   ]
  },
  {
   "cell_type": "code",
   "execution_count": 11,
   "metadata": {},
   "outputs": [],
   "source": [
    "a1.cumplirAños()\n",
    "a2.cumplirAños()"
   ]
  },
  {
   "cell_type": "code",
   "execution_count": 12,
   "metadata": {},
   "outputs": [
    {
     "name": "stdout",
     "output_type": "stream",
     "text": [
      "Hola, soy:  Raton de color: Marron y tengo:  3\n"
     ]
    }
   ],
   "source": [
    "a1.mePresento()"
   ]
  },
  {
   "cell_type": "code",
   "execution_count": 13,
   "metadata": {},
   "outputs": [
    {
     "name": "stdout",
     "output_type": "stream",
     "text": [
      "Hola, soy:  Liebre de color: Gris y tengo:  4\n"
     ]
    }
   ],
   "source": [
    "a2.mePresento()"
   ]
  }
 ],
 "metadata": {
  "kernelspec": {
   "display_name": "Python 3",
   "language": "python",
   "name": "python3"
  },
  "language_info": {
   "codemirror_mode": {
    "name": "ipython",
    "version": 3
   },
   "file_extension": ".py",
   "mimetype": "text/x-python",
   "name": "python",
   "nbconvert_exporter": "python",
   "pygments_lexer": "ipython3",
   "version": "3.11.4"
  },
  "orig_nbformat": 4
 },
 "nbformat": 4,
 "nbformat_minor": 2
}
